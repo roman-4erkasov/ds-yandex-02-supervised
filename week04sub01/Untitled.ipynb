{
 "cells": [
  {
   "cell_type": "code",
   "execution_count": 6,
   "metadata": {},
   "outputs": [],
   "source": [
    "from sklearn.datasets import load_digits\n",
    "from sklearn.cross_validation import cross_val_score\n",
    "from sklearn.tree import DecisionTreeClassifier\n",
    "from sklearn.ensemble import BaggingClassifier"
   ]
  },
  {
   "cell_type": "code",
   "execution_count": 3,
   "metadata": {},
   "outputs": [],
   "source": [
    "cv = 10\n",
    "k = 5"
   ]
  },
  {
   "cell_type": "code",
   "execution_count": 7,
   "metadata": {},
   "outputs": [],
   "source": [
    "data = load_digits()"
   ]
  },
  {
   "cell_type": "code",
   "execution_count": 11,
   "metadata": {},
   "outputs": [
    {
     "data": {
      "text/plain": [
       "0.7746566283575705"
      ]
     },
     "execution_count": 11,
     "metadata": {},
     "output_type": "execute_result"
    }
   ],
   "source": []
  },
  {
   "cell_type": "code",
   "execution_count": 26,
   "metadata": {},
   "outputs": [
    {
     "name": "stdout",
     "output_type": "stream",
     "text": [
      "0.8280776392924075\n"
     ]
    }
   ],
   "source": [
    "answ = cross_val_score(X=data.data,y=data.target,cv=10, \n",
    "    estimator=DecisionTreeClassifier(),\n",
    ").mean()\n",
    "\n",
    "print(answ)\n",
    "\n",
    "with open(\"sub1.txt\",\"w\") as fout:\n",
    "    fout.write(str(answ))"
   ]
  },
  {
   "cell_type": "code",
   "execution_count": 31,
   "metadata": {},
   "outputs": [
    {
     "data": {
      "text/plain": [
       "64"
      ]
     },
     "execution_count": 31,
     "metadata": {},
     "output_type": "execute_result"
    }
   ],
   "source": [
    "data.data.shape[1]"
   ]
  },
  {
   "cell_type": "code",
   "execution_count": 29,
   "metadata": {},
   "outputs": [
    {
     "name": "stdout",
     "output_type": "stream",
     "text": [
      "0.9254425600175098\n"
     ]
    }
   ],
   "source": [
    "est = BaggingClassifier(base_estimator=DecisionTreeClassifier(), n_estimators=100)\n",
    "\n",
    "answ = cross_val_score(X=data.data,y=data.target,cv=10, \n",
    "    estimator=est,\n",
    ").mean()\n",
    "\n",
    "print(answ)\n",
    "\n",
    "with open(\"sub2.txt\",\"w\") as fout:\n",
    "    fout.write(str(answ))"
   ]
  },
  {
   "cell_type": "code",
   "execution_count": 32,
   "metadata": {},
   "outputs": [
    {
     "name": "stdout",
     "output_type": "stream",
     "text": [
      "0.9359688945681441\n"
     ]
    }
   ],
   "source": [
    "est = BaggingClassifier(\n",
    "    base_estimator=DecisionTreeClassifier(), \n",
    "    n_estimators=100,\n",
    "    max_features=8\n",
    ")\n",
    "\n",
    "answ = cross_val_score(X=data.data,y=data.target,cv=10, \n",
    "    estimator=est,\n",
    ").mean()\n",
    "\n",
    "print(answ)\n",
    "\n",
    "with open(\"sub3.txt\",\"w\") as fout:\n",
    "    fout.write(str(answ))"
   ]
  },
  {
   "cell_type": "code",
   "execution_count": 34,
   "metadata": {},
   "outputs": [
    {
     "name": "stdout",
     "output_type": "stream",
     "text": [
      "0.9510860337487141\n"
     ]
    }
   ],
   "source": [
    "est = BaggingClassifier(\n",
    "    base_estimator=DecisionTreeClassifier(max_features=8), \n",
    "    n_estimators=100,\n",
    "#     max_features=8\n",
    ")\n",
    "\n",
    "answ = cross_val_score(X=data.data,y=data.target,cv=10, \n",
    "    estimator=est,\n",
    ").mean()\n",
    "\n",
    "print(answ)\n",
    "\n",
    "with open(\"sub4.txt\",\"w\") as fout:\n",
    "    fout.write(str(answ))"
   ]
  },
  {
   "cell_type": "code",
   "execution_count": 46,
   "metadata": {},
   "outputs": [
    {
     "name": "stdout",
     "output_type": "stream",
     "text": [
      "0.9504627642576878\n"
     ]
    }
   ],
   "source": [
    "est = BaggingClassifier(\n",
    "    base_estimator=DecisionTreeClassifier(max_features=20), \n",
    "    n_estimators=100,\n",
    ")\n",
    "\n",
    "answ = cross_val_score(X=data.data,y=data.target,cv=10, \n",
    "    estimator=est,\n",
    ").mean()\n",
    "\n",
    "print(answ)\n",
    "\n"
   ]
  },
  {
   "cell_type": "code",
   "execution_count": 36,
   "metadata": {},
   "outputs": [
    {
     "data": {
      "text/plain": [
       "[False]"
      ]
     },
     "execution_count": 36,
     "metadata": {},
     "output_type": "execute_result"
    }
   ],
   "source": [
    "[False, True, True, True, False, True, True]"
   ]
  },
  {
   "cell_type": "code",
   "execution_count": 50,
   "metadata": {},
   "outputs": [],
   "source": [
    "with open(\"sub5.txt\",\"w\") as fout:\n",
    "    fout.write(\" \".join(map(str,[2,3,4,7])))"
   ]
  },
  {
   "cell_type": "code",
   "execution_count": null,
   "metadata": {},
   "outputs": [],
   "source": []
  }
 ],
 "metadata": {
  "kernelspec": {
   "display_name": "Python 2",
   "language": "python",
   "name": "python2"
  },
  "language_info": {
   "codemirror_mode": {
    "name": "ipython",
    "version": 2
   },
   "file_extension": ".py",
   "mimetype": "text/x-python",
   "name": "python",
   "nbconvert_exporter": "python",
   "pygments_lexer": "ipython2",
   "version": "2.7.10"
  }
 },
 "nbformat": 4,
 "nbformat_minor": 2
}
