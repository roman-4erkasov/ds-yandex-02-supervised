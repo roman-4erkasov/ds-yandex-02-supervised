{
 "cells": [
  {
   "cell_type": "code",
   "execution_count": 3,
   "metadata": {},
   "outputs": [],
   "source": [
    "from sklearn.datasets import load_digits\n",
    "from sklearn.datasets import load_breast_cancer\n",
    "from sklearn.cross_validation import cross_val_score\n",
    "from sklearn.naive_bayes import BernoulliNB, GaussianNB, MultinomialNB\n",
    "import numpy as np\n"
   ]
  },
  {
   "cell_type": "code",
   "execution_count": 2,
   "metadata": {},
   "outputs": [],
   "source": [
    "breast_cancer = load_breast_cancer()"
   ]
  },
  {
   "cell_type": "code",
   "execution_count": 4,
   "metadata": {},
   "outputs": [],
   "source": [
    "est_pairs = [(GaussianNB,\"gauss\"),(BernoulliNB, \"bernulli\"),(MultinomialNB, \"mult\")]"
   ]
  },
  {
   "cell_type": "code",
   "execution_count": 6,
   "metadata": {},
   "outputs": [
    {
     "name": "stdout",
     "output_type": "stream",
     "text": [
      "0.9367492806089297 gauss\n",
      "0.6274204028589994 bernulli\n",
      "0.8945790401930752 mult\n"
     ]
    }
   ],
   "source": [
    "for alg, lbl in est_pairs:\n",
    "    est = alg()\n",
    "    print cross_val_score(estimator=est, X=breast_cancer.data, y=breast_cancer.target).mean(), lbl"
   ]
  },
  {
   "cell_type": "code",
   "execution_count": 7,
   "metadata": {},
   "outputs": [
    {
     "name": "stdout",
     "output_type": "stream",
     "text": [
      "0.8186003803550138 gauss\n",
      "0.8258236507780582 bernulli\n",
      "0.8708771489735053 mult\n"
     ]
    }
   ],
   "source": [
    "digits = load_digits()\n",
    "for alg, lbl in est_pairs:\n",
    "    est = alg()\n",
    "    print cross_val_score(estimator=est, X=digits.data, y=digits.target).mean(), lbl"
   ]
  },
  {
   "cell_type": "code",
   "execution_count": null,
   "metadata": {},
   "outputs": [],
   "source": []
  }
 ],
 "metadata": {
  "kernelspec": {
   "display_name": "Python 2",
   "language": "python",
   "name": "python2"
  },
  "language_info": {
   "codemirror_mode": {
    "name": "ipython",
    "version": 2
   },
   "file_extension": ".py",
   "mimetype": "text/x-python",
   "name": "python",
   "nbconvert_exporter": "python",
   "pygments_lexer": "ipython2",
   "version": "2.7.10"
  }
 },
 "nbformat": 4,
 "nbformat_minor": 2
}
